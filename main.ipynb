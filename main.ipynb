{
 "cells": [
  {
   "cell_type": "code",
   "id": "initial_id",
   "metadata": {
    "collapsed": true,
    "ExecuteTime": {
     "end_time": "2025-05-06T22:31:56.352699Z",
     "start_time": "2025-05-06T22:31:56.345910Z"
    }
   },
   "source": [
    "import pandas as pd\n",
    "df = pd.read_csv(\"./data/salaries_by_college_major.csv\")\n",
    "df.isna()\n",
    "clean_df = df.dropna()\n",
    "clean_df.columns\n"
   ],
   "outputs": [
    {
     "data": {
      "text/plain": [
       "Index(['Undergraduate Major', 'Starting Median Salary',\n",
       "       'Mid-Career Median Salary', 'Mid-Career 10th Percentile Salary',\n",
       "       'Mid-Career 90th Percentile Salary', 'Group'],\n",
       "      dtype='object')"
      ]
     },
     "execution_count": 23,
     "metadata": {},
     "output_type": "execute_result"
    }
   ],
   "execution_count": 23
  },
  {
   "metadata": {
    "ExecuteTime": {
     "end_time": "2025-05-06T22:31:56.416298Z",
     "start_time": "2025-05-06T22:31:56.412360Z"
    }
   },
   "cell_type": "code",
   "source": [
    "print(clean_df[\"Mid-Career Median Salary\"].max())\n",
    "highest_idx = clean_df[\"Mid-Career Median Salary\"].idxmax()\n",
    "highest_major = clean_df[\"Undergraduate Major\"].loc[highest_idx]\n",
    "print(highest_major)\n",
    "chem_grad_salary = clean_df[\"Starting Median Salary\"].loc[highest_idx]\n",
    "print(chem_grad_salary)"
   ],
   "id": "210b17017806feaa",
   "outputs": [
    {
     "name": "stdout",
     "output_type": "stream",
     "text": [
      "107000.0\n",
      "Chemical Engineering\n",
      "63200.0\n"
     ]
    }
   ],
   "execution_count": 24
  },
  {
   "metadata": {
    "ExecuteTime": {
     "end_time": "2025-05-06T22:36:35.061373Z",
     "start_time": "2025-05-06T22:36:35.058252Z"
    }
   },
   "cell_type": "code",
   "source": [
    "lowest_idx = clean_df[\"Starting Median Salary\"].idxmin()\n",
    "lowest_major = clean_df[\"Undergraduate Major\"].loc[lowest_idx]\n",
    "print(lowest_major)\n",
    "lowest_starting_salary = clean_df[\"Starting Median Salary\"].loc[lowest_idx]\n",
    "print(lowest_starting_salary)"
   ],
   "id": "6a35fa0c81f3027",
   "outputs": [
    {
     "name": "stdout",
     "output_type": "stream",
     "text": [
      "Spanish\n",
      "34000.0\n"
     ]
    }
   ],
   "execution_count": 27
  },
  {
   "metadata": {
    "ExecuteTime": {
     "end_time": "2025-05-06T22:52:45.765851Z",
     "start_time": "2025-05-06T22:52:45.761300Z"
    }
   },
   "cell_type": "code",
   "source": [
    "lowest_median_major = clean_df[\"Undergraduate Major\"].loc[clean_df[\"Mid-Career Median Salary\"].idxmin()]\n",
    "print(lowest_median_major)\n",
    "clean_df.loc[clean_df[\"Mid-Career Median Salary\"].idxmin()]"
   ],
   "id": "d9070014c8e7645d",
   "outputs": [
    {
     "name": "stdout",
     "output_type": "stream",
     "text": [
      "Education\n"
     ]
    },
    {
     "data": {
      "text/plain": [
       "Undergraduate Major                  Education\n",
       "Starting Median Salary                 34900.0\n",
       "Mid-Career Median Salary               52000.0\n",
       "Mid-Career 10th Percentile Salary      29300.0\n",
       "Mid-Career 90th Percentile Salary     102000.0\n",
       "Group                                     HASS\n",
       "Name: 18, dtype: object"
      ]
     },
     "execution_count": 38,
     "metadata": {},
     "output_type": "execute_result"
    }
   ],
   "execution_count": 38
  },
  {
   "metadata": {},
   "cell_type": "code",
   "outputs": [],
   "execution_count": null,
   "source": "",
   "id": "3a8f3a171ba0e2c9"
  }
 ],
 "metadata": {
  "kernelspec": {
   "display_name": "Python [conda env:base] *",
   "language": "python",
   "name": "conda-base-py"
  },
  "language_info": {
   "codemirror_mode": {
    "name": "ipython",
    "version": 2
   },
   "file_extension": ".py",
   "mimetype": "text/x-python",
   "name": "python",
   "nbconvert_exporter": "python",
   "pygments_lexer": "ipython2",
   "version": "2.7.6"
  }
 },
 "nbformat": 4,
 "nbformat_minor": 5
}
